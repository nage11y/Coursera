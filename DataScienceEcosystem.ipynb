{
 "cells": [
  {
   "cell_type": "markdown",
   "id": "24de4e3f-8472-4814-b2bb-8c6cfb20aac2",
   "metadata": {},
   "source": [
    "# Data Science Tools and Ecosystem"
   ]
  },
  {
   "cell_type": "markdown",
   "id": "c37f8c2c-7552-4799-95f4-542fb08caa2c",
   "metadata": {},
   "source": [
    "In this notebook, Data Science Tools and Ecosystem are summarized."
   ]
  },
  {
   "cell_type": "markdown",
   "id": "d0623186-24e2-4d43-a035-14401e375abd",
   "metadata": {},
   "source": [
    "Some of the popular languages that Data Scientists use are:\n",
    "1. Python\n",
    "2. R\n",
    "3. SQL\n",
    "4. C++\n",
    "5. Java etc..."
   ]
  },
  {
   "cell_type": "markdown",
   "id": "e559d232-96ff-4c18-835a-d889154758b7",
   "metadata": {},
   "source": [
    "Some of the commonly used libraries used by Data Scientists include:\n",
    "1. Tensorflow.\n",
    "2. NumPy.\n",
    "3. Pandas."
   ]
  },
  {
   "cell_type": "markdown",
   "id": "3224da0b-2e88-4892-bf90-ac5a1b9a0fb6",
   "metadata": {},
   "source": [
    "| Data Science Tolls |\n",
    "|--------------------|\n",
    "| SAS |\n",
    "| Apache Hasoop |\n",
    "| Tensorflow |"
   ]
  },
  {
   "cell_type": "markdown",
   "id": "0f206a2a-d1dd-4228-9ac3-056534376d0f",
   "metadata": {},
   "source": [
    "### Below are a few examples of evaluating arithmetic expressions in Python"
   ]
  },
  {
   "cell_type": "code",
   "execution_count": 2,
   "id": "2b18c44f-2459-4f57-a80d-da5729ae5811",
   "metadata": {},
   "outputs": [
    {
     "data": {
      "text/plain": [
       "17"
      ]
     },
     "execution_count": 2,
     "metadata": {},
     "output_type": "execute_result"
    }
   ],
   "source": [
    "#This a simple arithmetic expression to mutiply then add integers\n",
    "(3*4)+5"
   ]
  },
  {
   "cell_type": "code",
   "execution_count": 3,
   "id": "7ef8ed72-8f3f-4604-89bd-6f74f8820559",
   "metadata": {},
   "outputs": [
    {
     "data": {
      "text/plain": [
       "3.3333333333333335"
      ]
     },
     "execution_count": 3,
     "metadata": {},
     "output_type": "execute_result"
    }
   ],
   "source": [
    "#This will convert 200 minutes to hours by diving by 60\n",
    "200/60"
   ]
  },
  {
   "cell_type": "markdown",
   "id": "031cffd4-cb45-4fa3-a74e-aba9f7fe87b3",
   "metadata": {},
   "source": [
    "__Objectives__\n",
    "* List popular languages for data science\n",
    "* List popular libraries for Data Science\n",
    "* List of Data Science tools\n",
    "* How to provide comments in the cell"
   ]
  },
  {
   "cell_type": "markdown",
   "id": "525e869c-d1b5-484a-a2a5-5fa356d41e91",
   "metadata": {},
   "source": [
    "## Author\n",
    "Nagelly Jordan"
   ]
  },
  {
   "cell_type": "code",
   "execution_count": null,
   "id": "22a26d9d-ee8a-49a6-8c16-5d4d7b7c87f4",
   "metadata": {},
   "outputs": [],
   "source": []
  }
 ],
 "metadata": {
  "kernelspec": {
   "display_name": "Python 3 (ipykernel)",
   "language": "python",
   "name": "python3"
  },
  "language_info": {
   "codemirror_mode": {
    "name": "ipython",
    "version": 3
   },
   "file_extension": ".py",
   "mimetype": "text/x-python",
   "name": "python",
   "nbconvert_exporter": "python",
   "pygments_lexer": "ipython3",
   "version": "3.12.6"
  }
 },
 "nbformat": 4,
 "nbformat_minor": 5
}
